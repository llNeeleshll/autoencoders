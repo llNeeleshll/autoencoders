{
 "cells": [
  {
   "cell_type": "markdown",
   "metadata": {},
   "source": [
    "# Variational Autoencoder - MNIST"
   ]
  },
  {
   "cell_type": "markdown",
   "metadata": {},
   "source": [
    "Here, in this notebook, we'll see how to create a basic Variational Autoencoder to generate new data for the dataset, we have used Sine function as datasource. \n",
    "\n",
    "**NOTE: HERE WE WILL NOT USE THE SINE FUNCTIONS'S DATASET FOR AUTOENCODER TIMESERIES. WE'LL USE IT IN A DIFFERENT LSTM AUTOENCODER.**\n",
    "\n",
    "The VAEs can be used to generate new data for unbalanced dataset. Just train a VAE with the class with less examples and use the VAE to generate more examples for the class.\n",
    "\n",
    "Here, in this notebook, we'll use the sine series dataset with 1000 examples to train a VAE and generate new dataset for sine series itself."
   ]
  },
  {
   "cell_type": "code",
   "execution_count": 53,
   "metadata": {},
   "outputs": [],
   "source": [
    "import torch.nn as nn\n",
    "import torch\n",
    "from torch.nn.modules.container import Sequential\n",
    "from torch.utils.data import TensorDataset, DataLoader,random_split\n",
    "from sklearn.model_selection import train_test_split\n",
    "import numpy as np\n",
    "import matplotlib.pyplot as plt\n",
    "import pandas as pd\n",
    "import torch.nn.functional as F\n",
    "import torchvision.transforms as transforms\n",
    "from torchvision import datasets\n",
    "from torchvision import utils"
   ]
  },
  {
   "cell_type": "code",
   "execution_count": 4,
   "metadata": {},
   "outputs": [],
   "source": [
    "if torch.cuda.is_available():\n",
    "    device = 'cuda:0'\n",
    "else:\n",
    "    device = 'cpu'\n",
    "pass"
   ]
  },
  {
   "cell_type": "markdown",
   "metadata": {},
   "source": [
    "## Loading or Formulating the dataset\n",
    "\n",
    "In order to create the random dataset let's use the **sine** function. The structure of the dataset would be :\n",
    "\n",
    "| X   |\n",
    "| :---: | :--:|\n",
    "| $[sin(a), sin(a+1), sin(a+2)..., sin(a+n)]$ |\n",
    "| $[sin(b), sin(b+1), sin(b+2)..., sin(b+n)]$ |\n",
    "| $... ... ... ... ...$  | ... |\n",
    "| $[sin(z), sin(z+1), sin(z+2)..., sin(z+n)]$ |\n",
    "\n",
    "$a ... z$ are the random number between $0 - 100.$<br/>\n",
    "$n$ is the maximum data points we need. Here we choose it to be 200.<br/>\n",
    "The rows in the dataset let's say would be $1000$.\n",
    "\n"
   ]
  },
  {
   "cell_type": "code",
   "execution_count": 5,
   "metadata": {},
   "outputs": [],
   "source": [
    "transform = transforms.Compose([\n",
    "    transforms.ToTensor(),\n",
    "])"
   ]
  },
  {
   "cell_type": "code",
   "execution_count": 8,
   "metadata": {},
   "outputs": [],
   "source": [
    "train_data = datasets.MNIST(root='data', train=True, download=True, transform=transform)\n",
    "\n",
    "test_data = datasets.MNIST(root='data', train=False, download=True,  transform=transform)"
   ]
  },
  {
   "cell_type": "code",
   "execution_count": 11,
   "metadata": {},
   "outputs": [],
   "source": [
    "m=len(train_data)\n",
    "train_ds, test_ds = random_split(train_data, [int(m-m*0.2), int(m*0.2)])"
   ]
  },
  {
   "cell_type": "code",
   "execution_count": 12,
   "metadata": {},
   "outputs": [],
   "source": [
    "train_loader = DataLoader(train_ds,128, shuffle=True)\n",
    "test_loader = DataLoader(test_ds, 128, shuffle=True)"
   ]
  },
  {
   "cell_type": "markdown",
   "metadata": {},
   "source": [
    "## Modelling\n",
    "\n",
    "![VAE](helper/vae.png)"
   ]
  },
  {
   "cell_type": "markdown",
   "metadata": {},
   "source": [
    "### **Encoder**\n",
    "\n",
    "The first part of the an **Variational AutoEncoder** model is the **Encoder**. The Encoder would take a $200$ features in this case (as our sine dataset has $200$ features created) and layer by layer, it will reduce the size of the features to $25$ points in the end, the size is in the variable `latent_vector_size`."
   ]
  },
  {
   "cell_type": "code",
   "execution_count": 14,
   "metadata": {},
   "outputs": [],
   "source": [
    "latent_vector_size = 128"
   ]
  },
  {
   "cell_type": "code",
   "execution_count": 15,
   "metadata": {},
   "outputs": [],
   "source": [
    "\n",
    "class EncoderNN(nn.Module):\n",
    "\n",
    "    def __init__(self):\n",
    "\n",
    "        super(EncoderNN, self).__init__()\n",
    "\n",
    "        self.conv_1 = nn.Conv2d(1, 8, 3, stride=2, padding=1)\n",
    "        self.conv_2 = nn.Conv2d(8, 16, 3, stride=2, padding=1) \n",
    "        self.batch_1 = nn.BatchNorm2d(16)\n",
    "        self.conv_3 = nn.Conv2d(16, 32, 3, stride=2, padding=0)  \n",
    "        self.linear_1 = nn.Linear(3*3*32, 128)\n",
    "        self.linear_2 = nn.Linear(128, latent_vector_size)\n",
    "\n",
    "        self.N = torch.distributions.Normal(0, 1)\n",
    "        self.N.loc = self.N.loc.cuda() # hack to get sampling on the GPU\n",
    "        self.N.scale = self.N.scale.cuda()\n",
    "        self.kl = 0\n",
    "        \n",
    "    def forward(self, x):\n",
    "        x = F.relu(self.conv_1(x))        \n",
    "        x = F.relu(self.batch_1(self.conv_2(x)))\n",
    "\n",
    "        x = F.relu(self.conv_3(x))\n",
    "\n",
    "        x = torch.flatten(x, start_dim=1)\n",
    "\n",
    "        x = F.relu(self.linear_1(x))\n",
    "\n",
    "        mu = self.linear_2(x)\n",
    "\n",
    "        sigma = torch.exp(self.linear_2(x))\n",
    "\n",
    "        z = mu + sigma*self.N.sample(mu.shape)\n",
    "\n",
    "        self.kl = (sigma**2 + mu**2 - torch.log(sigma) - 1/2).sum()\n",
    "\n",
    "        return z\n",
    "\n"
   ]
  },
  {
   "cell_type": "markdown",
   "metadata": {},
   "source": [
    "### **Decoder**\n",
    "\n",
    "The second part of the an **Variational AutoEncoder** model is the **Decoder**. The Decoder would take it from where Encoder finishes. The Decoder would take the $25$ features here in this case and layer by layer it will increase the size of the features from $25$ to $200$ points in the end.\n",
    "\n",
    "So the Decoder again reconstructs the data to the same number of data points form where the Encoder started. We will then use this reconstructed data, compare it with the original data and calculate the $MSE$. The whole idea is to try reduce this error."
   ]
  },
  {
   "cell_type": "code",
   "execution_count": 16,
   "metadata": {},
   "outputs": [],
   "source": [
    "class DecoderNN(nn.Module):\n",
    "\n",
    "    def __init__(self):\n",
    "        super(DecoderNN, self).__init__()\n",
    "\n",
    "        self.linear_1 = nn.Linear(latent_vector_size, 128)        \n",
    "        self.linear_2 = nn.Linear(128, 3*3*32)\n",
    "\n",
    "        self.unflatten = nn.Unflatten(dim=1, unflattened_size=(32, 3, 3))\n",
    "        \n",
    "        self.conv_T_1 = nn.ConvTranspose2d(32, 16, 3, stride=2, output_padding=0)\n",
    "        self.batch_1 = nn.BatchNorm2d(16)\n",
    "        self.conv_T_2 = nn.ConvTranspose2d(16, 8, 3, stride=2, padding=1, output_padding=1)\n",
    "        self.batch_2 = nn.BatchNorm2d(8)\n",
    "        self.conv_T_3 = nn.ConvTranspose2d(8, 1, 3, stride=2,  padding=1, output_padding=1)\n",
    "\n",
    "    def forward(self, x):\n",
    "        x = F.relu(self.linear_1(x))\n",
    "        x = F.relu(self.linear_2(x))\n",
    "        x = self.unflatten(x)\n",
    "        x = self.conv_T_1(x)\n",
    "        x = F.relu(self.batch_1(x))\n",
    "        x = self.conv_T_2(x)\n",
    "        x = F.relu(self.batch_2(x))\n",
    "        x = self.conv_T_3(x)\n",
    "\n",
    "        reconstruction = torch.sigmoid(x)\n",
    "        return reconstruction"
   ]
  },
  {
   "cell_type": "code",
   "execution_count": 17,
   "metadata": {},
   "outputs": [],
   "source": [
    "class AutoencoderNN(nn.Module):\n",
    "\n",
    "  def __init__(self):\n",
    "    super(AutoencoderNN,self).__init__()\n",
    "    \n",
    "    self.encoderNN = EncoderNN().to(device)\n",
    "    self.decoderNN = DecoderNN().to(device)\n",
    "\n",
    "\n",
    "  def forward(self,x):\n",
    "    x = self.encoderNN(x)  \n",
    "    x = self.decoderNN(x)\n",
    "    return x"
   ]
  },
  {
   "cell_type": "code",
   "execution_count": 18,
   "metadata": {},
   "outputs": [
    {
     "name": "stdout",
     "output_type": "stream",
     "text": [
      "AutoencoderNN(\n",
      "  (encoderNN): EncoderNN(\n",
      "    (conv_1): Conv2d(1, 8, kernel_size=(3, 3), stride=(2, 2), padding=(1, 1))\n",
      "    (conv_2): Conv2d(8, 16, kernel_size=(3, 3), stride=(2, 2), padding=(1, 1))\n",
      "    (batch_1): BatchNorm2d(16, eps=1e-05, momentum=0.1, affine=True, track_running_stats=True)\n",
      "    (conv_3): Conv2d(16, 32, kernel_size=(3, 3), stride=(2, 2))\n",
      "    (linear_1): Linear(in_features=288, out_features=128, bias=True)\n",
      "    (linear_2): Linear(in_features=128, out_features=128, bias=True)\n",
      "  )\n",
      "  (decoderNN): DecoderNN(\n",
      "    (linear_1): Linear(in_features=128, out_features=128, bias=True)\n",
      "    (linear_2): Linear(in_features=128, out_features=288, bias=True)\n",
      "    (unflatten): Unflatten(dim=1, unflattened_size=(32, 3, 3))\n",
      "    (conv_T_1): ConvTranspose2d(32, 16, kernel_size=(3, 3), stride=(2, 2))\n",
      "    (batch_1): BatchNorm2d(16, eps=1e-05, momentum=0.1, affine=True, track_running_stats=True)\n",
      "    (conv_T_2): ConvTranspose2d(16, 8, kernel_size=(3, 3), stride=(2, 2), padding=(1, 1), output_padding=(1, 1))\n",
      "    (batch_2): BatchNorm2d(8, eps=1e-05, momentum=0.1, affine=True, track_running_stats=True)\n",
      "    (conv_T_3): ConvTranspose2d(8, 1, kernel_size=(3, 3), stride=(2, 2), padding=(1, 1), output_padding=(1, 1))\n",
      "  )\n",
      ")\n"
     ]
    }
   ],
   "source": [
    "model = AutoencoderNN().to(device)\n",
    "print(model)"
   ]
  },
  {
   "cell_type": "code",
   "execution_count": 19,
   "metadata": {},
   "outputs": [],
   "source": [
    "criterion = nn.BCELoss()\n",
    "optimizer = torch.optim.Adam(model.parameters(), lr=0.0003)"
   ]
  },
  {
   "cell_type": "code",
   "execution_count": 20,
   "metadata": {},
   "outputs": [
    {
     "name": "stdout",
     "output_type": "stream",
     "text": [
      "epoch : 10\n",
      "training loss: 106.3354\n",
      "validation loss: 105.7649\n",
      "____________________\n",
      "epoch : 20\n",
      "training loss: 102.6578\n",
      "validation loss: 102.5859\n",
      "____________________\n",
      "epoch : 30\n",
      "training loss: 100.8673\n",
      "validation loss: 100.7539\n",
      "____________________\n",
      "epoch : 40\n",
      "training loss: 99.0219\n",
      "validation loss: 98.9820\n",
      "____________________\n",
      "epoch : 50\n",
      "training loss: 98.0976\n",
      "validation loss: 97.9988\n",
      "____________________\n",
      "epoch : 60\n",
      "training loss: 97.6184\n",
      "validation loss: 97.4893\n",
      "____________________\n",
      "epoch : 70\n",
      "training loss: 97.1604\n",
      "validation loss: 97.0382\n",
      "____________________\n",
      "epoch : 80\n",
      "training loss: 96.7195\n",
      "validation loss: 96.8487\n",
      "____________________\n",
      "epoch : 90\n",
      "training loss: 96.6048\n",
      "validation loss: 96.5122\n",
      "____________________\n",
      "epoch : 100\n",
      "training loss: 96.3098\n",
      "validation loss: 96.2466\n",
      "____________________\n"
     ]
    }
   ],
   "source": [
    "epochs = 100\n",
    "\n",
    "running_loss_history = []\n",
    "epoch_list = []\n",
    "val_running_loss_history = []\n",
    "\n",
    "for epoch in range(epochs):\n",
    "\n",
    "    running_loss = 0.0\n",
    "    val_loss = 0.0\n",
    "\n",
    "    # See we're not using any labels here.\n",
    "    model.train()\n",
    "    for inputs, _ in train_loader:\n",
    "\n",
    "        inputs = inputs.to(device)\n",
    "\n",
    "        optimizer.zero_grad()\n",
    "\n",
    "        output = model(inputs)\n",
    "\n",
    "        loss = ((inputs - output)**2).sum() + model.encoderNN.kl\n",
    "\n",
    "        loss.backward()\n",
    "        optimizer.step()\n",
    "\n",
    "        running_loss += loss.item()\n",
    "\n",
    "    else:\n",
    "        model.eval()\n",
    "        with torch.no_grad():\n",
    "\n",
    "            for val_inputs, _ in test_loader:\n",
    "\n",
    "                val_inputs = val_inputs.to(device)\n",
    "\n",
    "                val_encoded = model.encoderNN(val_inputs)\n",
    "\n",
    "                val_outputs = model(val_inputs)\n",
    "\n",
    "                loss = ((val_inputs - val_outputs)**2).sum() + model.encoderNN.kl\n",
    "\n",
    "                val_loss += loss.item()\n",
    "\n",
    "                \n",
    "    if (epoch+1) % 10 == 0:\n",
    "\n",
    "        running_loss_history.append(running_loss / len(train_loader.dataset))\n",
    "        \n",
    "        print('epoch :', (epoch+1))\n",
    "        print('training loss: {:.4f}'.format(running_loss / len(train_loader.dataset)))\n",
    "        print('validation loss: {:.4f}'.format(val_loss / len(test_loader.dataset)))\n",
    "        epoch_list.append(epoch + 1)\n",
    "\n",
    "        print('_'*20)"
   ]
  },
  {
   "cell_type": "code",
   "execution_count": 21,
   "metadata": {},
   "outputs": [],
   "source": [
    "torch.save(model.state_dict(),\"model_100.pth\")"
   ]
  },
  {
   "cell_type": "code",
   "execution_count": 22,
   "metadata": {},
   "outputs": [
    {
     "data": {
      "image/png": "[encoded data removed]",
      "text/plain": [
       "<Figure size 432x288 with 1 Axes>"
      ]
     },
     "metadata": {
      "needs_background": "light"
     },
     "output_type": "display_data"
    }
   ],
   "source": [
    "plt.plot(epoch_list,running_loss_history)\n",
    "plt.xlabel(\"Epochs\")\n",
    "plt.ylabel(\"Training Loss\")\n",
    "plt.title(\"Loss vs Number of Epochs\")\n",
    "plt.show()"
   ]
  },
  {
   "cell_type": "markdown",
   "metadata": {},
   "source": [
    "### Generating New Data"
   ]
  },
  {
   "cell_type": "code",
   "execution_count": 74,
   "metadata": {},
   "outputs": [],
   "source": [
    "def show_image(img):\n",
    "    npimg = img.numpy()\n",
    "    plt.imshow(np.transpose(npimg, (1, 2, 0)))\n",
    "\n",
    "def generate_data():\n",
    "    latent = torch.randn(1, latent_vector_size, device=device)\n",
    "    k = model.decoderNN(latent).detach().cpu()\n",
    "    fig, ax = plt.subplots(figsize=(3, 5))\n",
    "    show_image(utils.make_grid(k.data[:1],5,5))\n",
    "    plt.show()"
   ]
  },
  {
   "cell_type": "code",
   "execution_count": 76,
   "metadata": {},
   "outputs": [
    {
     "data": {
      "image/png": "[encoded data removed]",
      "text/plain": [
       "<Figure size 216x360 with 1 Axes>"
      ]
     },
     "metadata": {
      "needs_background": "light"
     },
     "output_type": "display_data"
    }
   ],
   "source": [
    "generate_data()"
   ]
  }
 ],
 "metadata": {
  "interpreter": {
   "hash": "23b3ef45bc6666d616e53a5695b9fbdcbc2f6ae61b72dd83b61aa80da4869d7d"
  },
  "kernelspec": {
   "display_name": "Python 3.8.6 64-bit",
   "language": "python",
   "name": "python3"
  },
  "language_info": {
   "codemirror_mode": {
    "name": "ipython",
    "version": 3
   },
   "file_extension": ".py",
   "mimetype": "text/x-python",
   "name": "python",
   "nbconvert_exporter": "python",
   "pygments_lexer": "ipython3",
   "version": "3.8.6"
  },
  "orig_nbformat": 4
 },
 "nbformat": 4,
 "nbformat_minor": 2
}
